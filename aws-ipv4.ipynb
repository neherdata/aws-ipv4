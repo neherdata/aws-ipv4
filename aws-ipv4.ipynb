{
 "cells": [
  {
   "cell_type": "code",
   "execution_count": 1,
   "id": "532e4f04-5695-4b1a-bfea-8c69cac1d6c5",
   "metadata": {},
   "outputs": [],
   "source": [
    "import pandas as pd\n",
    "import requests"
   ]
  },
  {
   "cell_type": "code",
   "execution_count": 2,
   "id": "0b85131d-90bb-480f-89e6-61d26be3c831",
   "metadata": {},
   "outputs": [
    {
     "data": {
      "text/plain": [
       "dict_keys(['syncToken', 'createDate', 'prefixes', 'ipv6_prefixes'])"
      ]
     },
     "execution_count": 2,
     "metadata": {},
     "output_type": "execute_result"
    }
   ],
   "source": [
    "url = 'https://ip-ranges.amazonaws.com/ip-ranges.json'\n",
    "r = requests.get(url)\n",
    "rStr = dict(r.json())\n",
    "rStr.keys()"
   ]
  },
  {
   "cell_type": "code",
   "execution_count": 15,
   "id": "7225bcd4-c3e2-46d7-b5b3-aa960c2d1f27",
   "metadata": {},
   "outputs": [],
   "source": [
    "prefixesIPv4 = rStr.get('prefixes')\n",
    "prefixesIPv6 = rStr.get('ipv6_previxes')"
   ]
  },
  {
   "cell_type": "code",
   "execution_count": 19,
   "id": "d06dd655-5f5d-41cc-8f8f-e1ec25e91324",
   "metadata": {},
   "outputs": [],
   "source": [
    "ipv4_df = pd.DataFrame(prefixesIPv4)"
   ]
  },
  {
   "cell_type": "code",
   "execution_count": 21,
   "id": "1226e249-28c5-4751-87e1-2c7da66601e6",
   "metadata": {},
   "outputs": [
    {
     "data": {
      "text/plain": [
       "<bound method NDFrame.describe of              ip_prefix          region               service  \\\n",
       "0          3.2.34.0/26      af-south-1                AMAZON   \n",
       "1         3.5.140.0/22  ap-northeast-2                AMAZON   \n",
       "2       13.34.37.64/27  ap-southeast-4                AMAZON   \n",
       "3       13.34.65.64/27    il-central-1                AMAZON   \n",
       "4        13.34.66.0/27       us-east-1                AMAZON   \n",
       "...                ...             ...                   ...   \n",
       "7359    52.43.76.88/29       us-west-2             CODEBUILD   \n",
       "7360  54.190.198.32/28       us-west-2        AMAZON_CONNECT   \n",
       "7361    54.244.46.0/23       us-west-2   WORKSPACES_GATEWAYS   \n",
       "7362  54.244.52.192/26       us-west-2  ROUTE53_HEALTHCHECKS   \n",
       "7363   54.245.168.0/26       us-west-2  ROUTE53_HEALTHCHECKS   \n",
       "\n",
       "     network_border_group  \n",
       "0              af-south-1  \n",
       "1          ap-northeast-2  \n",
       "2          ap-southeast-4  \n",
       "3            il-central-1  \n",
       "4               us-east-1  \n",
       "...                   ...  \n",
       "7359            us-west-2  \n",
       "7360            us-west-2  \n",
       "7361            us-west-2  \n",
       "7362            us-west-2  \n",
       "7363            us-west-2  \n",
       "\n",
       "[7364 rows x 4 columns]>"
      ]
     },
     "execution_count": 21,
     "metadata": {},
     "output_type": "execute_result"
    }
   ],
   "source": [
    "ipv4_df.describe"
   ]
  },
  {
   "cell_type": "code",
   "execution_count": null,
   "id": "9a99ee26-0e99-40d2-981a-c048bd64c7c7",
   "metadata": {},
   "outputs": [],
   "source": []
  }
 ],
 "metadata": {
  "kernelspec": {
   "display_name": "Python 3 (ipykernel)",
   "language": "python",
   "name": "python3"
  },
  "language_info": {
   "codemirror_mode": {
    "name": "ipython",
    "version": 3
   },
   "file_extension": ".py",
   "mimetype": "text/x-python",
   "name": "python",
   "nbconvert_exporter": "python",
   "pygments_lexer": "ipython3",
   "version": "3.11.5"
  }
 },
 "nbformat": 4,
 "nbformat_minor": 5
}
